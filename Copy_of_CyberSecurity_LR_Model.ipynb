{
  "nbformat": 4,
  "nbformat_minor": 0,
  "metadata": {
    "colab": {
      "provenance": [],
      "authorship_tag": "ABX9TyNj0nfQViORs3K46OWkU5Y4",
      "include_colab_link": true
    },
    "kernelspec": {
      "name": "python3",
      "display_name": "Python 3"
    },
    "language_info": {
      "name": "python"
    }
  },
  "cells": [
    {
      "cell_type": "markdown",
      "metadata": {
        "id": "view-in-github",
        "colab_type": "text"
      },
      "source": [
        "<a href=\"https://colab.research.google.com/github/dachib04/CyberSecurity_LR_Model/blob/main/Copy_of_CyberSecurity_LR_Model.ipynb\" target=\"_parent\"><img src=\"https://colab.research.google.com/assets/colab-badge.svg\" alt=\"Open In Colab\"/></a>"
      ]
    },
    {
      "cell_type": "code",
      "source": [
        "!pip install tensorflow\n",
        "!pip install keras\n"
      ],
      "metadata": {
        "id": "lmGUbVjSW50s"
      },
      "execution_count": null,
      "outputs": []
    },
    {
      "cell_type": "code",
      "source": [
        "!pip install numpy\n",
        "!pip install scikit-learn\n",
        "!pip install scipy\n"
      ],
      "metadata": {
        "id": "8EBMuPFe_cyD"
      },
      "execution_count": null,
      "outputs": []
    },
    {
      "cell_type": "code",
      "source": [
        "!pip install panda"
      ],
      "metadata": {
        "id": "1qagb4Xw-MyV"
      },
      "execution_count": null,
      "outputs": []
    },
    {
      "cell_type": "code",
      "source": [
        "from google.colab import drive\n"
      ],
      "metadata": {
        "id": "CguSyaKTacCc"
      },
      "execution_count": null,
      "outputs": []
    },
    {
      "cell_type": "code",
      "source": [
        "drive.mount('/content/drive')"
      ],
      "metadata": {
        "id": "EOq17twdcSvm"
      },
      "execution_count": null,
      "outputs": []
    },
    {
      "cell_type": "code",
      "source": [
        "import pandas as pd\n",
        "\n",
        "\n",
        "df = pd.read_csv('/content/drive/MyDrive/folder/KDDTest.csv', header=None)\n",
        "print('Read {} rows.'.format(len(df)))\n",
        "\n",
        "df.dropna(inplace = True, axis = 1)\n",
        "\n",
        "df.columns = [\n",
        "    'duration',\n",
        "    'protocol_type',\n",
        "    'service',\n",
        "    'flag',\n",
        "    'src_bytes',\n",
        "    'dst_bytes',\n",
        "    'land',\n",
        "    'wrong_fragment',\n",
        "    'urgent',\n",
        "    'hot',\n",
        "    'num_failed_logins',\n",
        "    'logged_in',\n",
        "    'num_compromised',\n",
        "    'root_shell',\n",
        "    'su_attempted',\n",
        "    'num_root',\n",
        "    'num_file_creations',\n",
        "    'num_shells',\n",
        "    'num_access_file',\n",
        "    'num_outbound_cmds',\n",
        "    'is_host_login',\n",
        "    'is_guest_login',\n",
        "    'count',\n",
        "    'srv_count',\n",
        "    'serror_rate',\n",
        "    'srv_serror_rate',\n",
        "    'rerror_Rate',\n",
        "    'srv_rerror_rate',\n",
        "    'same_srv_rate',\n",
        "    'diff_srv_rate',\n",
        "    'srv_diff_host_rate',\n",
        "    'dst_host_count',\n",
        "    'dst_host_srv_count',\n",
        "    'dst_host_same_srv_rate',\n",
        "    'dst_host_diff_srv_rate',\n",
        "    'dst_host_same_src_port_rate',\n",
        "    'dst_host_srv_diff_host_rate',\n",
        "    'dst_host_serror_rate',\n",
        "    'dst_host_srv_serror_rate',\n",
        "    'dst_host_rerror_rate',\n",
        "    'dst_host_srv_rerror_rate',\n",
        "    'outcome',\n",
        "    'last_flag'\n",
        "]\n",
        "\n",
        "df[0:5]"
      ],
      "metadata": {
        "id": "Wptlv5LKp4NF"
      },
      "execution_count": null,
      "outputs": []
    },
    {
      "cell_type": "code",
      "source": [
        "ENCODING = 'utf-8'\n",
        "\n",
        "def expand_categories(values):\n",
        "    result = []\n",
        "    s = values.value_counts()\n",
        "    t = float(len(values))\n",
        "    for i in s.index:\n",
        "        result.append(\"{}:{}%\".format(i,round(100*(s[i]/t),2)))\n",
        "    return '[{}]'.format(\",\".join(result))\n",
        "\n",
        "def analyze(filename):\n",
        "    print()\n",
        "    print('Analyzing: {}'.format(filename))\n",
        "    df = pd.read_csv(filename, encoding=ENCODING)\n",
        "    cols = df.columns.values\n",
        "    total = float(len(df))\n",
        "\n",
        "    print('{} rows'.format(int(total)))\n",
        "    for col in cols:\n",
        "      uniques = df[col].unique()\n",
        "      unique_count = len(uniques)\n",
        "      if unique_count > 100:\n",
        "          print('** {}:{} ({}%)'.format(col,unique_count,int(((unique_count)/total)*100)))\n",
        "      else:\n",
        "          print('** {}:{}'.format(col,expand_categories(df[col])))\n",
        "          expand_categories(df[col])"
      ],
      "metadata": {
        "id": "K4tkSWh5WerM"
      },
      "execution_count": null,
      "outputs": []
    },
    {
      "cell_type": "code",
      "source": [
        "import os\n",
        "import numpy as np\n",
        "from sklearn import metrics\n",
        "from scipy.stats import zscore\n",
        "\n",
        "analyze('/content/drive/MyDrive/folder/KDDTest.csv')"
      ],
      "metadata": {
        "id": "XGrtbtyfWjV4"
      },
      "execution_count": null,
      "outputs": []
    },
    {
      "cell_type": "code",
      "source": [
        "def encode_numeric_zscore(df, name, mean=None, sd=None):\n",
        "    if mean is None:\n",
        "        mean = df[name].mean()\n",
        "\n",
        "    if sd is None:\n",
        "        sd = df[name].std()\n",
        "\n",
        "    df[name] = (df[name] - mean) / sd\n",
        "\n",
        "def encode_test_dummy(df, name):\n",
        "    dummies = pd.get_dummies(df[name])\n",
        "    for i in dummies.columns:\n",
        "      dummy_name = \"{}_{}\".format(name, i)\n",
        "      # dummy_name = f'{name}-{i}'\n",
        "      df[dummy_name] = dummies[i]\n",
        "    df.drop(name, axis=1, inplace=True)\n"
      ],
      "metadata": {
        "id": "uS2u-zObWmR6"
      },
      "execution_count": null,
      "outputs": []
    },
    {
      "cell_type": "code",
      "source": [
        "# Normalize numeric features\n",
        "encode_numeric_zscore(df, 'duration')\n",
        "encode_numeric_zscore(df, 'src_bytes')\n",
        "encode_numeric_zscore(df, 'dst_bytes')\n",
        "encode_numeric_zscore(df, 'wrong_fragment')\n",
        "encode_numeric_zscore(df, 'urgent')\n",
        "encode_numeric_zscore(df, 'hot')\n",
        "encode_numeric_zscore(df, 'num_failed_logins')\n",
        "encode_numeric_zscore(df, 'num_compromised')\n",
        "encode_numeric_zscore(df, 'root_shell')\n",
        "encode_numeric_zscore(df, 'su_attempted')\n",
        "encode_numeric_zscore(df, 'num_root')\n",
        "encode_numeric_zscore(df, 'num_file_creations')\n",
        "encode_numeric_zscore(df, 'num_shells')\n",
        "encode_numeric_zscore(df, 'num_access_file')\n",
        "encode_numeric_zscore(df, 'count')\n",
        "encode_numeric_zscore(df, 'srv_count')\n",
        "encode_numeric_zscore(df, 'serror_rate')\n",
        "encode_numeric_zscore(df, 'srv_serror_rate')\n",
        "encode_numeric_zscore(df, 'rerror_Rate')\n",
        "encode_numeric_zscore(df, 'srv_rerror_rate')\n",
        "encode_numeric_zscore(df, 'same_srv_rate')\n",
        "encode_numeric_zscore(df, 'diff_srv_rate')\n",
        "encode_numeric_zscore(df, 'srv_diff_host_rate')\n",
        "encode_numeric_zscore(df, 'dst_host_count')\n",
        "encode_numeric_zscore(df, 'dst_host_srv_count')\n",
        "encode_numeric_zscore(df, 'dst_host_same_srv_rate')\n",
        "encode_numeric_zscore(df, 'dst_host_diff_srv_rate')\n",
        "encode_numeric_zscore(df, 'dst_host_same_src_port_rate')\n",
        "encode_numeric_zscore(df, 'dst_host_srv_diff_host_rate')\n",
        "encode_numeric_zscore(df, 'dst_host_serror_rate')\n",
        "encode_numeric_zscore(df, 'dst_host_srv_serror_rate')\n",
        "encode_numeric_zscore(df, 'dst_host_rerror_rate')\n",
        "encode_numeric_zscore(df, 'dst_host_srv_rerror_rate')\n",
        "\n",
        "# Encode categorical features\n",
        "encode_test_dummy(df, 'protocol_type')\n",
        "encode_test_dummy(df, 'service')\n",
        "encode_test_dummy(df, 'flag')\n",
        "encode_test_dummy(df, 'land')\n",
        "encode_test_dummy(df, 'logged_in')\n",
        "encode_test_dummy(df, 'is_guest_login')\n",
        "\n",
        "df.dropna(inplace=True, axis=1)\n",
        "df[0:5]\n",
        "\n",
        "\n",
        "x_columns = df.columns.drop('outcome')\n",
        "x = df[x_columns].values\n",
        "dummies = pd.get_dummies(df['outcome'])\n",
        "outcomes = dummies.columns\n",
        "num_classes = len(outcomes)\n",
        "y = dummies.values\n",
        "\n"
      ],
      "metadata": {
        "id": "Skna82tAyEmS"
      },
      "execution_count": null,
      "outputs": []
    },
    {
      "cell_type": "code",
      "source": [
        "x_columns = df.columns.drop('outcome')\n",
        "x = df[x_columns].values\n",
        "dummies = pd.get_dummies(df['outcome'])\n",
        "outcomes = dummies.columns\n",
        "num_classes = len(outcomes)\n",
        "y = dummies.values\n"
      ],
      "metadata": {
        "id": "yoXmBINOWtsn"
      },
      "execution_count": null,
      "outputs": []
    },
    {
      "cell_type": "code",
      "source": [
        "df.groupby('outcome')['outcome'].count()"
      ],
      "metadata": {
        "id": "BwZcy2LN2GOD"
      },
      "execution_count": null,
      "outputs": []
    },
    {
      "cell_type": "code",
      "source": [
        "\n",
        "\n",
        "\n",
        "import pandas as pd\n",
        "from sklearn.preprocessing import StandardScaler\n",
        "from sklearn.model_selection import train_test_split\n",
        "from sklearn.linear_model import LogisticRegression\n",
        "from sklearn.metrics import accuracy_score, confusion_matrix\n",
        "\n",
        "# Load the data\n",
        "df = pd.read_csv('/content/drive/MyDrive/folder/KDDTest.csv', header=None)\n",
        "\n",
        "# Assign column names to the dataframe\n",
        "col_names = ['duration', 'protocol_type', 'service', 'flag', 'src_bytes', 'dst_bytes', 'land', 'wrong_fragment',\n",
        "             'urgent', 'hot', 'num_failed_logins', 'logged_in', 'num_compromised', 'root_shell', 'su_attempted',\n",
        "             'num_root', 'num_file_creations', 'num_shells', 'num_access_files', 'num_outbound_cmds',\n",
        "             'is_hot_login', 'is_guest_login', 'count', 'srv_count', 'serror_rate', 'srv_serror_rate',\n",
        "             'rerror_rate', 'srv_rerror_rate', 'same_srv_rate', 'diff_srv_rate', 'srv_diff_host_rate',\n",
        "             'dst_host_count', 'dst_host_srv_count', 'dst_host_same_srv_rate', 'dst_host_diff_srv_rate',\n",
        "             'dst_host_same_src_port_rate', 'dst_host_srv_diff_host_rate', 'dst_host_serror_rate',\n",
        "             'dst_host_srv_serror_rate', 'dst_host_rerror_rate', 'dst_host_srv_rerror_rate', 'outcome', 'last_flag']\n",
        "\n",
        "df.columns = col_names\n",
        "\n",
        "# Drop columns that have constant values or unique for each record\n",
        "df.drop(['num_outbound_cmds', 'is_hot_login', 'is_guest_login'], axis=1, inplace=True)\n",
        "\n",
        "# Filter for non-normal outcomes\n",
        "attacks = df[df['outcome'] != 'normal']\n",
        "attack_types = attacks['outcome'].unique()\n",
        "\n",
        "print(f\"Types of cyber attacks in the dataset: {', '.join(attack_types)}\")\n",
        "\n",
        "# One-hot encode categorical variables\n",
        "df = pd.get_dummies(df, columns=['protocol_type', 'service', 'flag'])\n",
        "\n",
        "# Split the data into train and test sets\n",
        "X = df.drop('outcome', axis=1)\n",
        "y = df['outcome']\n",
        "X_train, X_test, y_train, y_test = train_test_split(X, y, test_size=0.3, random_state=42)\n",
        "\n",
        "# Scale the numerical variables\n",
        "scaler = StandardScaler()\n",
        "X_train = scaler.fit_transform(X_train)\n",
        "X_test = scaler.transform(X_test)\n",
        "\n",
        "# Train a logistic regression model\n",
        "clf = LogisticRegression(max_iter=1000)\n",
        "clf.fit(X_train, y_train)\n",
        "\n",
        "# Make predictions on the test set and calculate accuracy\n",
        "y_pred = clf.predict(X_test)\n",
        "accuracy = accuracy_score(y_test, y_pred)\n",
        "print(f\"Accuracy: {accuracy}\")\n",
        "\n",
        "# Print the confusion matrix\n",
        "confusion_mat = confusion_matrix(y_test, y_pred)\n",
        "print(f\"Confusion matrix:\\n{confusion_mat}\")\n",
        "\n"
      ],
      "metadata": {
        "colab": {
          "base_uri": "https://localhost:8080/"
        },
        "id": "ajeIOddC3Pw7",
        "outputId": "e00ae391-4b47-4fab-e6df-32586b278b4f"
      },
      "execution_count": null,
      "outputs": [
        {
          "output_type": "stream",
          "name": "stdout",
          "text": [
            "Types of cyber attacks in the dataset: neptune, saint, mscan, guess_passwd, smurf, apache2, satan, buffer_overflow, back, warezmaster, snmpgetattack, processtable, pod, httptunnel, nmap, ps, snmpguess, ipsweep, mailbomb, portsweep, multihop, named, sendmail, loadmodule, xterm, worm, teardrop, rootkit, xlock, perl, land, xsnoop, sqlattack, ftp_write, imap, udpstorm, phf\n",
            "Accuracy: 0.9756061502069782\n",
            "Confusion matrix:\n",
            "[[211   0   0 ...   0   0   0]\n",
            " [  0  88   0 ...   0   0   0]\n",
            " [  0   0   4 ...   0   0   0]\n",
            " ...\n",
            " [  0   0   0 ...   2   0   0]\n",
            " [  0   0   0 ...   1   0   0]\n",
            " [  0   0   1 ...   0   0   1]]\n"
          ]
        },
        {
          "output_type": "stream",
          "name": "stderr",
          "text": [
            "/usr/local/lib/python3.10/dist-packages/sklearn/linear_model/_logistic.py:458: ConvergenceWarning: lbfgs failed to converge (status=1):\n",
            "STOP: TOTAL NO. of ITERATIONS REACHED LIMIT.\n",
            "\n",
            "Increase the number of iterations (max_iter) or scale the data as shown in:\n",
            "    https://scikit-learn.org/stable/modules/preprocessing.html\n",
            "Please also refer to the documentation for alternative solver options:\n",
            "    https://scikit-learn.org/stable/modules/linear_model.html#logistic-regression\n",
            "  n_iter_i = _check_optimize_result(\n"
          ]
        }
      ]
    }
  ]
}